{
 "cells": [
  {
   "cell_type": "markdown",
   "metadata": {},
   "source": [
    "# 확률 계산기\n",
    "\n",
    "`target_level` 도달 시 즉시 탈출 가정하고 확률 계산"
   ]
  },
  {
   "cell_type": "code",
   "execution_count": 1,
   "metadata": {},
   "outputs": [],
   "source": [
    "PROBABILITY = [\n",
    "    {},\n",
    "    { 'success': 1,    'fail': 0, 'down': 0, 'run': 0 },\n",
    "    { 'success': .6,   'fail': .4, 'down': 0, 'run': 0 },\n",
    "    { 'success': .5,   'fail': 0, 'down': .5, 'run': 0 },\n",
    "    { 'success': .4,   'fail': 0, 'down': .6, 'run': 0 },\n",
    "    { 'success': .307, 'fail': 0, 'down': .693, 'run': 0 },\n",
    "    { 'success': .205, 'fail': 0, 'down': .765, 'run': .03 },\n",
    "    { 'success': .103, 'fail': 0, 'down': .857, 'run': .04 },\n",
    "    { 'success': .05,  'fail': 0, 'down': .9, 'run': .05 },\n",
    "]\n",
    "REWARD = [0, 0, 1, 3, 6, 10, 15, 50, 150, 300]\n",
    "MAX_STAGE = 100"
   ]
  },
  {
   "cell_type": "code",
   "execution_count": 2,
   "metadata": {},
   "outputs": [],
   "source": [
    "def calculate_probability(\n",
    "    current_stage = 0,\n",
    "    current_octo_level = 1,\n",
    "    target_level = 9,\n",
    "    show_progress = False,\n",
    "):\n",
    "    probs = [ 0, 0, 0, 0, 0, 0, 0, 0, 0, 0 ]\n",
    "    probs[current_octo_level] = 1\n",
    "\n",
    "    for stage in range(current_stage, 100):\n",
    "        if (show_progress): print(f'stage {stage}/100: {[f'{p*100:.2f}%' for p in probs]}, sum={sum(probs)}')\n",
    "\n",
    "        new_probs = [ 0, 0, 0, 0, 0, 0, 0, 0, 0, 0 ]\n",
    "        new_probs[0] = probs[0]\n",
    "        new_probs[target_level] = probs[target_level]\n",
    "\n",
    "        for lev in range(1, target_level):\n",
    "            new_probs[lev + 1] += probs[lev] * PROBABILITY[lev]['success']\n",
    "            new_probs[lev]     += probs[lev] * PROBABILITY[lev]['fail']\n",
    "            new_probs[lev - 1] += probs[lev] * PROBABILITY[lev]['down']\n",
    "            new_probs[0]       += probs[lev] * PROBABILITY[lev]['run']\n",
    "\n",
    "        probs = new_probs\n",
    "\n",
    "    if (show_progress): print(f'stage 100/100: {[f'{p*100:.2f}%' for p in probs]}, sum={sum(probs)}')\n",
    "\n",
    "    return probs"
   ]
  },
  {
   "cell_type": "code",
   "execution_count": 3,
   "metadata": {},
   "outputs": [
    {
     "name": "stdout",
     "output_type": "stream",
     "text": [
      "6: ['0.00%', '0.00%', '1.36%', '1.54%', '1.13%', '0.47%', '95.50%', '0.00%', '0.00%', '0.00%'], sum=1.0\n",
      "기댓값: 14.499738648610307\n",
      "7: ['7.65%', '0.00%', '10.58%', '12.49%', '10.03%', '5.33%', '1.65%', '52.27%', '0.00%', '0.00%'], sum=0.9999999999999994\n",
      "기댓값: 27.99697792657149\n",
      "8: ['16.11%', '0.00%', '18.86%', '22.51%', '18.54%', '10.44%', '3.90%', '0.80%', '8.84%', '0.00%'], sum=0.9999999999999996\n",
      "기댓값: 17.263438402288724\n",
      "9: ['18.01%', '0.00%', '20.31%', '24.28%', '20.07%', '11.38%', '4.35%', '0.98%', '0.10%', '0.51%'], sum=1.0\n",
      "기댓값: 6.1063339810296124\n"
     ]
    }
   ],
   "source": [
    "for target in range(6, 10):\n",
    "    probs = calculate_probability(0, 1, target)\n",
    "\n",
    "    print(f'{target}: {[f'{p*100:.2f}%' for p in probs]}, sum={sum(probs)}')\n",
    "\n",
    "    total = 0\n",
    "    for i, p in enumerate(probs):\n",
    "        total += p * REWARD[i]\n",
    "    \n",
    "    print(f'기댓값: {total}')\n"
   ]
  }
 ],
 "metadata": {
  "kernelspec": {
   "display_name": "Python 3",
   "language": "python",
   "name": "python3"
  },
  "language_info": {
   "codemirror_mode": {
    "name": "ipython",
    "version": 3
   },
   "file_extension": ".py",
   "mimetype": "text/x-python",
   "name": "python",
   "nbconvert_exporter": "python",
   "pygments_lexer": "ipython3",
   "version": "3.12.3"
  }
 },
 "nbformat": 4,
 "nbformat_minor": 2
}
